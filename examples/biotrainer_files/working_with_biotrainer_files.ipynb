{
 "cells": [
  {
   "cell_type": "markdown",
   "source": [
    "# Working with biotrainer files\n",
    "This example notebook explains, how to work with files used or created by biotrainer"
   ],
   "metadata": {
    "collapsed": false
   }
  },
  {
   "cell_type": "markdown",
   "source": [
    "## 1. Input fasta files\n",
    "Using the functionality from FASTA.py of biotrainer.utilities makes working with biotrainer fasta files easy!"
   ],
   "metadata": {
    "collapsed": false
   }
  },
  {
   "cell_type": "code",
   "execution_count": 26,
   "outputs": [],
   "source": [
    "from biotrainer.utilities import read_FASTA, get_attributes_from_seqrecords, get_split_lists\n",
    "\n",
    "biotrainer_fasta_seq2class = \"../sequence_to_class/sequences.fasta\""
   ],
   "metadata": {
    "collapsed": false
   }
  },
  {
   "cell_type": "code",
   "execution_count": 27,
   "outputs": [
    {
     "name": "stdout",
     "output_type": "stream",
     "text": [
      "ID: Seq1\n",
      "Name: Seq1\n",
      "Description: Seq1 TARGET=Glob SET=train\n",
      "Number of features: 0\n",
      "Seq('SEQWENCE')\n"
     ]
    }
   ],
   "source": [
    "# 1. Read fasta file: Returns sequence records from biopython\n",
    "seq_records = read_FASTA(biotrainer_fasta_seq2class)\n",
    "print(seq_records[0])"
   ],
   "metadata": {
    "collapsed": false
   }
  },
  {
   "cell_type": "code",
   "execution_count": 28,
   "outputs": [
    {
     "name": "stdout",
     "output_type": "stream",
     "text": [
      "('Seq1', {'TARGET': 'Glob', 'SET': 'train'})\n"
     ]
    }
   ],
   "source": [
    "# 2. Get attributes: Returns attributes from seq_records as an dict (seq_id: attributes)\n",
    "seq_attributes = get_attributes_from_seqrecords(seq_records)\n",
    "print(list(seq_attributes.items())[0])"
   ],
   "metadata": {
    "collapsed": false
   }
  },
  {
   "cell_type": "code",
   "execution_count": 29,
   "outputs": [
    {
     "name": "stdout",
     "output_type": "stream",
     "text": [
      "['Seq1']\n"
     ]
    }
   ],
   "source": [
    "# 3. Get dataset splits from file (lists with sequence ids)\n",
    "train, val, test = get_split_lists(seq_attributes)\n",
    "print(train)"
   ],
   "metadata": {
    "collapsed": false
   }
  },
  {
   "cell_type": "markdown",
   "source": [
    "## 2. Output files: out.yml\n",
    "Every run of biotrainer creates an out.yml file. It can be read via a yaml library."
   ],
   "metadata": {
    "collapsed": false
   }
  },
  {
   "cell_type": "code",
   "execution_count": 30,
   "outputs": [],
   "source": [
    "from ruamel import yaml\n",
    "\n",
    "out_path_residue2class = \"../residue_to_class/output/out.yml\""
   ],
   "metadata": {
    "collapsed": false
   }
  },
  {
   "cell_type": "code",
   "execution_count": 31,
   "outputs": [
    {
     "name": "stdout",
     "output_type": "stream",
     "text": [
      "{'- f1_score class 0': 0.0, '- f1_score class 1': 0.0, '- f1_score class 2': 0.0, '- f1_score class 3': 0.0, '- f1_score class 4': 0.0, '- precission class 0': 0.0, '- precission class 1': 0.0, '- precission class 2': 0.0, '- precission class 3': 0.0, '- precission class 4': 0.0, '- recall class 0': 0.0, '- recall class 1': 0.0, '- recall class 2': 0.0, '- recall class 3': 0.0, '- recall class 4': 0.0, 'accuracy': 0.0, 'loss': 1.623467206954956, 'macro-f1_score': 0.0, 'macro-precision': 0.0, 'macro-recall': 0.0, 'matthews-corr-coeff': -0.3000600337982178, 'micro-f1_score': 0.0, 'micro-precision': 0.0, 'micro-recall': 0.0, 'spearmans-corr-coeff': -0.14046210050582886}\n"
     ]
    }
   ],
   "source": [
    "# Read file and read test set results:\n",
    "with open(out_path_residue2class, \"r\") as out_file_residue2class:\n",
    "    residue2class_results = yaml.safe_load(out_file_residue2class)\n",
    "print(residue2class_results[\"test_iterations_results\"][\"metrics\"])"
   ],
   "metadata": {
    "collapsed": false
   }
  }
 ],
 "metadata": {
  "kernelspec": {
   "display_name": "Python 3",
   "language": "python",
   "name": "python3"
  },
  "language_info": {
   "codemirror_mode": {
    "name": "ipython",
    "version": 2
   },
   "file_extension": ".py",
   "mimetype": "text/x-python",
   "name": "python",
   "nbconvert_exporter": "python",
   "pygments_lexer": "ipython2",
   "version": "2.7.6"
  }
 },
 "nbformat": 4,
 "nbformat_minor": 0
}
