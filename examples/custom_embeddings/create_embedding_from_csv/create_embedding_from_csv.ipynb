{
 "cells": [
  {
   "cell_type": "code",
   "execution_count": 1,
   "metadata": {
    "collapsed": true,
    "pycharm": {
     "name": "#%%\n"
    }
   },
   "outputs": [],
   "source": [
    "# This notebook demonstrates how to create a new embedding file from existing values in a csv file\n",
    "# We will use embeddings on a sequence level (reduced embeddings)\n",
    "# The sequences have ids [Seq1, Seq2, Seq3, Seq4], like the example for sequence_to_class\n",
    "\n",
    "import h5py\n",
    "import numpy as np"
   ]
  },
  {
   "cell_type": "code",
   "execution_count": 2,
   "outputs": [],
   "source": [
    "# Read values from csv\n",
    "values_dict = {}\n",
    "with open(\"../example_files/arbitrary_values.csv\", \"r\") as csv_file:\n",
    "    lines = csv_file.readlines()[1:]\n",
    "    for line in lines:\n",
    "        seq_id = line.split(\",\")[0]\n",
    "        values = [float(value) for value in line.split(\",\")[1].replace(\"[\", \"\").replace(\"]\", \"\").split(\";\")]\n",
    "        values_dict[seq_id] = values"
   ],
   "metadata": {
    "collapsed": false,
    "pycharm": {
     "name": "#%%\n"
    }
   }
  },
  {
   "cell_type": "code",
   "execution_count": 9,
   "outputs": [],
   "source": [
    "# Add values to new file:\n",
    "# 1. Create a new file\n",
    "output_embeddings_path = \"arbitrary_values_embeddings.h5\"\n",
    "\n",
    "with h5py.File(output_embeddings_path, \"w\") as output_embeddings_file:\n",
    "    # 2. Save values as dataset in new file\n",
    "    idx = 0\n",
    "    for seq_id, values in values_dict.items():\n",
    "        output_embeddings_file.create_dataset(str(idx), data=np.array(values), compression=\"gzip\", chunks=True,\n",
    "                                              maxshape=(len(values)))\n",
    "        output_embeddings_file[str(idx)].attrs[\"original_id\"] = seq_id\n",
    "        idx += 1"
   ],
   "metadata": {
    "collapsed": false,
    "pycharm": {
     "name": "#%%\n"
    }
   }
  },
  {
   "cell_type": "code",
   "execution_count": 10,
   "outputs": [
    {
     "name": "stdout",
     "output_type": "stream",
     "text": [
      "{ID: Embedding} in biotrainer format:\n",
      " {'Seq1': <HDF5 dataset \"0\": shape (5,), type \"<f8\">, 'Seq2': <HDF5 dataset \"1\": shape (5,), type \"<f8\">, 'Seq3': <HDF5 dataset \"2\": shape (5,), type \"<f8\">, 'Seq4': <HDF5 dataset \"3\": shape (5,), type \"<f8\">}\n"
     ]
    }
   ],
   "source": [
    "# Verify created file\n",
    "new_embeddings_file = h5py.File(output_embeddings_path, 'r', rdcc_nbytes=1024 ** 2 * 4000,\n",
    "                                rdcc_nslots=1e7)\n",
    "\n",
    "for idx, embedding in new_embeddings_file.items():\n",
    "    original_sequence_id = new_embeddings_file[idx].attrs[\"original_id\"]\n",
    "    appendix = values_dict[original_sequence_id]\n",
    "    assert embedding.shape[0] == len(appendix), \"New dimension is not correct\"\n",
    "    assert not (embedding - np.array(appendix)).all(), \"Values not correctly merged\"\n",
    "\n",
    "# Show embeddings in internal biotrainer format\n",
    "id2emb = {new_embeddings_file[idx].attrs[\"original_id\"]: embedding for (idx, embedding) in\n",
    "          new_embeddings_file.items()}\n",
    "print(\"{ID: Embedding} in biotrainer format:\\n\", id2emb)\n",
    "\n",
    "new_embeddings_file.close()"
   ],
   "metadata": {
    "collapsed": false,
    "pycharm": {
     "name": "#%%\n"
    }
   }
  }
 ],
 "metadata": {
  "kernelspec": {
   "display_name": "Python 3",
   "language": "python",
   "name": "python3"
  },
  "language_info": {
   "codemirror_mode": {
    "name": "ipython",
    "version": 2
   },
   "file_extension": ".py",
   "mimetype": "text/x-python",
   "name": "python",
   "nbconvert_exporter": "python",
   "pygments_lexer": "ipython2",
   "version": "2.7.6"
  }
 },
 "nbformat": 4,
 "nbformat_minor": 0
}